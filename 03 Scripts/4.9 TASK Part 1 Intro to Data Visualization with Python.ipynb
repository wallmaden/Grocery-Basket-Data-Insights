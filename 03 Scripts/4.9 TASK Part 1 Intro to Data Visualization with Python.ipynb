{
 "cells": [
  {
   "cell_type": "markdown",
   "id": "21041ab4-e92e-4064-9b5a-cc1808eca896",
   "metadata": {},
   "source": [
    "# 4.9 TASK Part 1 Intro to Data Visualization with Python"
   ]
  },
  {
   "cell_type": "markdown",
   "id": "fbe8262d-3e80-44ce-a111-186c2c54d4a8",
   "metadata": {},
   "source": [
    "## Summary of this Script\n",
    "#### Q1, Q2, Q3, Q4, Q5, Q6, Q7, Q8, Q9"
   ]
  },
  {
   "cell_type": "markdown",
   "id": "dd21f0cc-7c4d-4b3c-81e0-f0c89046278b",
   "metadata": {},
   "source": [
    "### Q1"
   ]
  },
  {
   "cell_type": "markdown",
   "id": "b5a6afe4-d6b7-420a-a402-6914419c94eb",
   "metadata": {},
   "source": [
    "##### Download the customer data set and add it to your “Original Data” folder."
   ]
  },
  {
   "cell_type": "markdown",
   "id": "8de8133b-0040-4a7b-a759-c5128a557a4b",
   "metadata": {},
   "source": [
    "### Q2"
   ]
  },
  {
   "cell_type": "markdown",
   "id": "6d5316cf-791b-4fa8-8a4a-9931f54bd554",
   "metadata": {},
   "source": [
    "##### New script folder set up"
   ]
  },
  {
   "cell_type": "markdown",
   "id": "b8b7dc07-eaa8-43dc-aadf-12eda6906cfa",
   "metadata": {},
   "source": [
    "### Q3"
   ]
  },
  {
   "cell_type": "code",
   "execution_count": 9,
   "id": "70359088-7c3f-44e9-8f95-4c1f4d05f912",
   "metadata": {},
   "outputs": [],
   "source": [
    "import pandas as pd\n",
    "import numpy as np\n",
    "import os\n",
    "import matplotlib.pyplot as plt\n",
    "import seaborn as sns\n",
    "import scipy"
   ]
  },
  {
   "cell_type": "code",
   "execution_count": 17,
   "id": "8c2ecd87-61de-4825-a622-d236e4decb2e",
   "metadata": {},
   "outputs": [],
   "source": [
    "path = r\"C:\\Users\\wallm\\11 2024 Instacart Basket Analysis 1\""
   ]
  },
  {
   "cell_type": "code",
   "execution_count": 19,
   "id": "184e14d0-58f0-4461-a672-f2d244e4c508",
   "metadata": {},
   "outputs": [
    {
     "data": {
      "text/plain": [
       "'C:\\\\Users\\\\wallm\\\\11 2024 Instacart Basket Analysis 1'"
      ]
     },
     "execution_count": 19,
     "metadata": {},
     "output_type": "execute_result"
    }
   ],
   "source": [
    "path"
   ]
  },
  {
   "cell_type": "code",
   "execution_count": 27,
   "id": "96329c85-fb08-48c3-ac3a-a58caf5c00cb",
   "metadata": {},
   "outputs": [],
   "source": [
    "# Import new customer data\n",
    "cust_data = pd.read_csv(os.path.join(path,'02 Data','Original data', 'customers.csv'), index_col = False)"
   ]
  },
  {
   "cell_type": "code",
   "execution_count": 35,
   "id": "93fe0701-16c2-45ff-b87a-311a2dd0bb14",
   "metadata": {},
   "outputs": [
    {
     "data": {
      "text/plain": [
       "(206209, 10)"
      ]
     },
     "execution_count": 35,
     "metadata": {},
     "output_type": "execute_result"
    }
   ],
   "source": [
    "cust_data.shape"
   ]
  },
  {
   "cell_type": "code",
   "execution_count": 37,
   "id": "8c964316-6851-4807-8bb7-b589e00878b6",
   "metadata": {},
   "outputs": [
    {
     "name": "stdout",
     "output_type": "stream",
     "text": [
      "<class 'pandas.core.frame.DataFrame'>\n",
      "RangeIndex: 206209 entries, 0 to 206208\n",
      "Data columns (total 10 columns):\n",
      " #   Column        Non-Null Count   Dtype \n",
      "---  ------        --------------   ----- \n",
      " 0   user_id       206209 non-null  int64 \n",
      " 1   First Name    194950 non-null  object\n",
      " 2   Surnam        206209 non-null  object\n",
      " 3   Gender        206209 non-null  object\n",
      " 4   STATE         206209 non-null  object\n",
      " 5   Age           206209 non-null  int64 \n",
      " 6   date_joined   206209 non-null  object\n",
      " 7   n_dependants  206209 non-null  int64 \n",
      " 8   fam_status    206209 non-null  object\n",
      " 9   income        206209 non-null  int64 \n",
      "dtypes: int64(4), object(6)\n",
      "memory usage: 15.7+ MB\n"
     ]
    }
   ],
   "source": [
    "cust_data.info()"
   ]
  },
  {
   "cell_type": "code",
   "execution_count": 39,
   "id": "33c37b98-4fb2-4128-a1e4-b5796959d49c",
   "metadata": {},
   "outputs": [
    {
     "data": {
      "text/html": [
       "<div>\n",
       "<style scoped>\n",
       "    .dataframe tbody tr th:only-of-type {\n",
       "        vertical-align: middle;\n",
       "    }\n",
       "\n",
       "    .dataframe tbody tr th {\n",
       "        vertical-align: top;\n",
       "    }\n",
       "\n",
       "    .dataframe thead th {\n",
       "        text-align: right;\n",
       "    }\n",
       "</style>\n",
       "<table border=\"1\" class=\"dataframe\">\n",
       "  <thead>\n",
       "    <tr style=\"text-align: right;\">\n",
       "      <th></th>\n",
       "      <th>user_id</th>\n",
       "      <th>Age</th>\n",
       "      <th>n_dependants</th>\n",
       "      <th>income</th>\n",
       "    </tr>\n",
       "  </thead>\n",
       "  <tbody>\n",
       "    <tr>\n",
       "      <th>count</th>\n",
       "      <td>206209.000000</td>\n",
       "      <td>206209.000000</td>\n",
       "      <td>206209.000000</td>\n",
       "      <td>206209.000000</td>\n",
       "    </tr>\n",
       "    <tr>\n",
       "      <th>mean</th>\n",
       "      <td>103105.000000</td>\n",
       "      <td>49.501646</td>\n",
       "      <td>1.499823</td>\n",
       "      <td>94632.852548</td>\n",
       "    </tr>\n",
       "    <tr>\n",
       "      <th>std</th>\n",
       "      <td>59527.555167</td>\n",
       "      <td>18.480962</td>\n",
       "      <td>1.118433</td>\n",
       "      <td>42473.786988</td>\n",
       "    </tr>\n",
       "    <tr>\n",
       "      <th>min</th>\n",
       "      <td>1.000000</td>\n",
       "      <td>18.000000</td>\n",
       "      <td>0.000000</td>\n",
       "      <td>25903.000000</td>\n",
       "    </tr>\n",
       "    <tr>\n",
       "      <th>25%</th>\n",
       "      <td>51553.000000</td>\n",
       "      <td>33.000000</td>\n",
       "      <td>0.000000</td>\n",
       "      <td>59874.000000</td>\n",
       "    </tr>\n",
       "    <tr>\n",
       "      <th>50%</th>\n",
       "      <td>103105.000000</td>\n",
       "      <td>49.000000</td>\n",
       "      <td>1.000000</td>\n",
       "      <td>93547.000000</td>\n",
       "    </tr>\n",
       "    <tr>\n",
       "      <th>75%</th>\n",
       "      <td>154657.000000</td>\n",
       "      <td>66.000000</td>\n",
       "      <td>3.000000</td>\n",
       "      <td>124244.000000</td>\n",
       "    </tr>\n",
       "    <tr>\n",
       "      <th>max</th>\n",
       "      <td>206209.000000</td>\n",
       "      <td>81.000000</td>\n",
       "      <td>3.000000</td>\n",
       "      <td>593901.000000</td>\n",
       "    </tr>\n",
       "  </tbody>\n",
       "</table>\n",
       "</div>"
      ],
      "text/plain": [
       "             user_id            Age   n_dependants         income\n",
       "count  206209.000000  206209.000000  206209.000000  206209.000000\n",
       "mean   103105.000000      49.501646       1.499823   94632.852548\n",
       "std     59527.555167      18.480962       1.118433   42473.786988\n",
       "min         1.000000      18.000000       0.000000   25903.000000\n",
       "25%     51553.000000      33.000000       0.000000   59874.000000\n",
       "50%    103105.000000      49.000000       1.000000   93547.000000\n",
       "75%    154657.000000      66.000000       3.000000  124244.000000\n",
       "max    206209.000000      81.000000       3.000000  593901.000000"
      ]
     },
     "execution_count": 39,
     "metadata": {},
     "output_type": "execute_result"
    }
   ],
   "source": [
    "cust_data.describe()"
   ]
  },
  {
   "cell_type": "code",
   "execution_count": 42,
   "id": "d3bfef1b-1091-4c43-ab28-3361a0d1f81e",
   "metadata": {
    "scrolled": true
   },
   "outputs": [
    {
     "data": {
      "text/html": [
       "<div>\n",
       "<style scoped>\n",
       "    .dataframe tbody tr th:only-of-type {\n",
       "        vertical-align: middle;\n",
       "    }\n",
       "\n",
       "    .dataframe tbody tr th {\n",
       "        vertical-align: top;\n",
       "    }\n",
       "\n",
       "    .dataframe thead th {\n",
       "        text-align: right;\n",
       "    }\n",
       "</style>\n",
       "<table border=\"1\" class=\"dataframe\">\n",
       "  <thead>\n",
       "    <tr style=\"text-align: right;\">\n",
       "      <th></th>\n",
       "      <th>user_id</th>\n",
       "      <th>First Name</th>\n",
       "      <th>Surnam</th>\n",
       "      <th>Gender</th>\n",
       "      <th>STATE</th>\n",
       "      <th>Age</th>\n",
       "      <th>date_joined</th>\n",
       "      <th>n_dependants</th>\n",
       "      <th>fam_status</th>\n",
       "      <th>income</th>\n",
       "    </tr>\n",
       "  </thead>\n",
       "  <tbody>\n",
       "    <tr>\n",
       "      <th>0</th>\n",
       "      <td>26711</td>\n",
       "      <td>Deborah</td>\n",
       "      <td>Esquivel</td>\n",
       "      <td>Female</td>\n",
       "      <td>Missouri</td>\n",
       "      <td>48</td>\n",
       "      <td>1/1/2017</td>\n",
       "      <td>3</td>\n",
       "      <td>married</td>\n",
       "      <td>165665</td>\n",
       "    </tr>\n",
       "    <tr>\n",
       "      <th>1</th>\n",
       "      <td>33890</td>\n",
       "      <td>Patricia</td>\n",
       "      <td>Hart</td>\n",
       "      <td>Female</td>\n",
       "      <td>New Mexico</td>\n",
       "      <td>36</td>\n",
       "      <td>1/1/2017</td>\n",
       "      <td>0</td>\n",
       "      <td>single</td>\n",
       "      <td>59285</td>\n",
       "    </tr>\n",
       "    <tr>\n",
       "      <th>2</th>\n",
       "      <td>65803</td>\n",
       "      <td>Kenneth</td>\n",
       "      <td>Farley</td>\n",
       "      <td>Male</td>\n",
       "      <td>Idaho</td>\n",
       "      <td>35</td>\n",
       "      <td>1/1/2017</td>\n",
       "      <td>2</td>\n",
       "      <td>married</td>\n",
       "      <td>99568</td>\n",
       "    </tr>\n",
       "    <tr>\n",
       "      <th>3</th>\n",
       "      <td>125935</td>\n",
       "      <td>Michelle</td>\n",
       "      <td>Hicks</td>\n",
       "      <td>Female</td>\n",
       "      <td>Iowa</td>\n",
       "      <td>40</td>\n",
       "      <td>1/1/2017</td>\n",
       "      <td>0</td>\n",
       "      <td>single</td>\n",
       "      <td>42049</td>\n",
       "    </tr>\n",
       "    <tr>\n",
       "      <th>4</th>\n",
       "      <td>130797</td>\n",
       "      <td>Ann</td>\n",
       "      <td>Gilmore</td>\n",
       "      <td>Female</td>\n",
       "      <td>Maryland</td>\n",
       "      <td>26</td>\n",
       "      <td>1/1/2017</td>\n",
       "      <td>1</td>\n",
       "      <td>married</td>\n",
       "      <td>40374</td>\n",
       "    </tr>\n",
       "    <tr>\n",
       "      <th>5</th>\n",
       "      <td>133128</td>\n",
       "      <td>Cynthia</td>\n",
       "      <td>Noble</td>\n",
       "      <td>Female</td>\n",
       "      <td>Kentucky</td>\n",
       "      <td>43</td>\n",
       "      <td>1/1/2017</td>\n",
       "      <td>2</td>\n",
       "      <td>married</td>\n",
       "      <td>49643</td>\n",
       "    </tr>\n",
       "    <tr>\n",
       "      <th>6</th>\n",
       "      <td>152052</td>\n",
       "      <td>Chris</td>\n",
       "      <td>Walton</td>\n",
       "      <td>Male</td>\n",
       "      <td>Montana</td>\n",
       "      <td>20</td>\n",
       "      <td>1/1/2017</td>\n",
       "      <td>0</td>\n",
       "      <td>single</td>\n",
       "      <td>61746</td>\n",
       "    </tr>\n",
       "    <tr>\n",
       "      <th>7</th>\n",
       "      <td>168851</td>\n",
       "      <td>Joseph</td>\n",
       "      <td>Hickman</td>\n",
       "      <td>Male</td>\n",
       "      <td>South Carolina</td>\n",
       "      <td>30</td>\n",
       "      <td>1/1/2017</td>\n",
       "      <td>0</td>\n",
       "      <td>single</td>\n",
       "      <td>63712</td>\n",
       "    </tr>\n",
       "    <tr>\n",
       "      <th>8</th>\n",
       "      <td>69965</td>\n",
       "      <td>Jeremy</td>\n",
       "      <td>Vang</td>\n",
       "      <td>Male</td>\n",
       "      <td>Texas</td>\n",
       "      <td>47</td>\n",
       "      <td>1/1/2017</td>\n",
       "      <td>1</td>\n",
       "      <td>married</td>\n",
       "      <td>162432</td>\n",
       "    </tr>\n",
       "    <tr>\n",
       "      <th>9</th>\n",
       "      <td>82820</td>\n",
       "      <td>Shawn</td>\n",
       "      <td>Chung</td>\n",
       "      <td>Male</td>\n",
       "      <td>Virginia</td>\n",
       "      <td>26</td>\n",
       "      <td>1/1/2017</td>\n",
       "      <td>2</td>\n",
       "      <td>married</td>\n",
       "      <td>32072</td>\n",
       "    </tr>\n",
       "    <tr>\n",
       "      <th>10</th>\n",
       "      <td>26441</td>\n",
       "      <td>Gloria</td>\n",
       "      <td>Stafford</td>\n",
       "      <td>Female</td>\n",
       "      <td>Nevada</td>\n",
       "      <td>19</td>\n",
       "      <td>1/1/2017</td>\n",
       "      <td>2</td>\n",
       "      <td>living with parents and siblings</td>\n",
       "      <td>43443</td>\n",
       "    </tr>\n",
       "    <tr>\n",
       "      <th>11</th>\n",
       "      <td>33835</td>\n",
       "      <td>Roger</td>\n",
       "      <td>Casey</td>\n",
       "      <td>Male</td>\n",
       "      <td>Nebraska</td>\n",
       "      <td>45</td>\n",
       "      <td>1/1/2017</td>\n",
       "      <td>2</td>\n",
       "      <td>married</td>\n",
       "      <td>47988</td>\n",
       "    </tr>\n",
       "    <tr>\n",
       "      <th>12</th>\n",
       "      <td>75032</td>\n",
       "      <td>Cynthia</td>\n",
       "      <td>Mcdaniel</td>\n",
       "      <td>Female</td>\n",
       "      <td>Georgia</td>\n",
       "      <td>75</td>\n",
       "      <td>1/1/2017</td>\n",
       "      <td>1</td>\n",
       "      <td>married</td>\n",
       "      <td>57835</td>\n",
       "    </tr>\n",
       "    <tr>\n",
       "      <th>13</th>\n",
       "      <td>51</td>\n",
       "      <td>Stephanie</td>\n",
       "      <td>Jensen</td>\n",
       "      <td>Female</td>\n",
       "      <td>Wyoming</td>\n",
       "      <td>37</td>\n",
       "      <td>1/1/2017</td>\n",
       "      <td>1</td>\n",
       "      <td>married</td>\n",
       "      <td>71190</td>\n",
       "    </tr>\n",
       "    <tr>\n",
       "      <th>14</th>\n",
       "      <td>516</td>\n",
       "      <td>Peter</td>\n",
       "      <td>Hunt</td>\n",
       "      <td>Male</td>\n",
       "      <td>Colorado</td>\n",
       "      <td>51</td>\n",
       "      <td>1/1/2017</td>\n",
       "      <td>2</td>\n",
       "      <td>married</td>\n",
       "      <td>146559</td>\n",
       "    </tr>\n",
       "    <tr>\n",
       "      <th>15</th>\n",
       "      <td>6965</td>\n",
       "      <td>Brandon</td>\n",
       "      <td>Mata</td>\n",
       "      <td>Male</td>\n",
       "      <td>North Dakota</td>\n",
       "      <td>70</td>\n",
       "      <td>1/1/2017</td>\n",
       "      <td>0</td>\n",
       "      <td>divorced/widowed</td>\n",
       "      <td>100091</td>\n",
       "    </tr>\n",
       "    <tr>\n",
       "      <th>16</th>\n",
       "      <td>8794</td>\n",
       "      <td>Amy</td>\n",
       "      <td>Mack</td>\n",
       "      <td>Female</td>\n",
       "      <td>Nebraska</td>\n",
       "      <td>30</td>\n",
       "      <td>1/1/2017</td>\n",
       "      <td>3</td>\n",
       "      <td>married</td>\n",
       "      <td>57096</td>\n",
       "    </tr>\n",
       "    <tr>\n",
       "      <th>17</th>\n",
       "      <td>9944</td>\n",
       "      <td>Brian</td>\n",
       "      <td>Oneill</td>\n",
       "      <td>Male</td>\n",
       "      <td>Wisconsin</td>\n",
       "      <td>26</td>\n",
       "      <td>1/1/2017</td>\n",
       "      <td>1</td>\n",
       "      <td>married</td>\n",
       "      <td>91826</td>\n",
       "    </tr>\n",
       "    <tr>\n",
       "      <th>18</th>\n",
       "      <td>13313</td>\n",
       "      <td>Victor</td>\n",
       "      <td>Moss</td>\n",
       "      <td>Male</td>\n",
       "      <td>Alaska</td>\n",
       "      <td>31</td>\n",
       "      <td>1/1/2017</td>\n",
       "      <td>2</td>\n",
       "      <td>married</td>\n",
       "      <td>91111</td>\n",
       "    </tr>\n",
       "    <tr>\n",
       "      <th>19</th>\n",
       "      <td>17335</td>\n",
       "      <td>Patrick</td>\n",
       "      <td>Fowler</td>\n",
       "      <td>Male</td>\n",
       "      <td>Vermont</td>\n",
       "      <td>65</td>\n",
       "      <td>1/1/2017</td>\n",
       "      <td>1</td>\n",
       "      <td>married</td>\n",
       "      <td>34514</td>\n",
       "    </tr>\n",
       "  </tbody>\n",
       "</table>\n",
       "</div>"
      ],
      "text/plain": [
       "    user_id First Name    Surnam  Gender           STATE  Age date_joined  \\\n",
       "0     26711    Deborah  Esquivel  Female        Missouri   48    1/1/2017   \n",
       "1     33890   Patricia      Hart  Female      New Mexico   36    1/1/2017   \n",
       "2     65803    Kenneth    Farley    Male           Idaho   35    1/1/2017   \n",
       "3    125935   Michelle     Hicks  Female            Iowa   40    1/1/2017   \n",
       "4    130797        Ann   Gilmore  Female        Maryland   26    1/1/2017   \n",
       "5    133128    Cynthia     Noble  Female        Kentucky   43    1/1/2017   \n",
       "6    152052      Chris    Walton    Male         Montana   20    1/1/2017   \n",
       "7    168851     Joseph   Hickman    Male  South Carolina   30    1/1/2017   \n",
       "8     69965     Jeremy      Vang    Male           Texas   47    1/1/2017   \n",
       "9     82820      Shawn     Chung    Male        Virginia   26    1/1/2017   \n",
       "10    26441     Gloria  Stafford  Female          Nevada   19    1/1/2017   \n",
       "11    33835      Roger     Casey    Male        Nebraska   45    1/1/2017   \n",
       "12    75032    Cynthia  Mcdaniel  Female         Georgia   75    1/1/2017   \n",
       "13       51  Stephanie    Jensen  Female         Wyoming   37    1/1/2017   \n",
       "14      516      Peter      Hunt    Male        Colorado   51    1/1/2017   \n",
       "15     6965    Brandon      Mata    Male    North Dakota   70    1/1/2017   \n",
       "16     8794        Amy      Mack  Female        Nebraska   30    1/1/2017   \n",
       "17     9944      Brian    Oneill    Male       Wisconsin   26    1/1/2017   \n",
       "18    13313     Victor      Moss    Male          Alaska   31    1/1/2017   \n",
       "19    17335    Patrick    Fowler    Male         Vermont   65    1/1/2017   \n",
       "\n",
       "    n_dependants                        fam_status  income  \n",
       "0              3                           married  165665  \n",
       "1              0                            single   59285  \n",
       "2              2                           married   99568  \n",
       "3              0                            single   42049  \n",
       "4              1                           married   40374  \n",
       "5              2                           married   49643  \n",
       "6              0                            single   61746  \n",
       "7              0                            single   63712  \n",
       "8              1                           married  162432  \n",
       "9              2                           married   32072  \n",
       "10             2  living with parents and siblings   43443  \n",
       "11             2                           married   47988  \n",
       "12             1                           married   57835  \n",
       "13             1                           married   71190  \n",
       "14             2                           married  146559  \n",
       "15             0                  divorced/widowed  100091  \n",
       "16             3                           married   57096  \n",
       "17             1                           married   91826  \n",
       "18             2                           married   91111  \n",
       "19             1                           married   34514  "
      ]
     },
     "execution_count": 42,
     "metadata": {},
     "output_type": "execute_result"
    }
   ],
   "source": [
    "# Check out the new imported customer data \n",
    "cust_data.head(20)"
   ]
  },
  {
   "cell_type": "markdown",
   "id": "f30c002a-06dd-463f-8de2-18e678afa3c4",
   "metadata": {},
   "source": [
    "### Q4"
   ]
  },
  {
   "cell_type": "markdown",
   "id": "e96ff432-e8ce-4e73-9a9f-1f365e2c8983",
   "metadata": {},
   "source": [
    "#### Wrangle the data so that it follows consistent logic; for example, rename columns with illogical names and drop columns that don’t add anything to your analysis."
   ]
  },
  {
   "cell_type": "code",
   "execution_count": 46,
   "id": "12ee37e1-64b1-4bd5-8549-196b444323b9",
   "metadata": {},
   "outputs": [],
   "source": [
    "# Rename any columns for consistency: \n",
    "cust_data.rename(columns={\n",
    "    'First Name': 'first_name', # adds lower case consistancy\n",
    "    'Surnam': 'last_name', # adds consistancy with first_name and is mis-spelt\n",
    "    'Gender': 'gender', # adds lower case consistancy\n",
    "    'STATE': 'state', # adds lower case consistancy\n",
    "    'Age': 'age', # adds lower case consistancy\n",
    "    'date_joined': 'date_joined',\n",
    "    'n_dependants': 'num_dependents', # adds clarity on meaning of 'n'\n",
    "    'fam_status': 'family_status', # adds clarity on meaning of 'fam'\n",
    "    'income': 'income'\n",
    "}, inplace=True)"
   ]
  },
  {
   "cell_type": "code",
   "execution_count": 54,
   "id": "a0b9d871-2704-4089-b683-427d6a64a5b9",
   "metadata": {},
   "outputs": [
    {
     "data": {
      "text/plain": [
       "Index(['user_id', 'first_name', 'last_name', 'gender', 'state', 'age',\n",
       "       'date_joined', 'num_dependents', 'family_status', 'income'],\n",
       "      dtype='object')"
      ]
     },
     "execution_count": 54,
     "metadata": {},
     "output_type": "execute_result"
    }
   ],
   "source": [
    "# Check new column names\n",
    "cust_data.columns"
   ]
  },
  {
   "cell_type": "code",
   "execution_count": 52,
   "id": "e431f33e-0e7c-4fa3-a259-0b00900f35fc",
   "metadata": {},
   "outputs": [
    {
     "name": "stdout",
     "output_type": "stream",
     "text": [
      "   user_id first_name last_name  gender       state  age date_joined  \\\n",
      "0    26711    Deborah  Esquivel  Female    Missouri   48    1/1/2017   \n",
      "1    33890   Patricia      Hart  Female  New Mexico   36    1/1/2017   \n",
      "2    65803    Kenneth    Farley    Male       Idaho   35    1/1/2017   \n",
      "3   125935   Michelle     Hicks  Female        Iowa   40    1/1/2017   \n",
      "4   130797        Ann   Gilmore  Female    Maryland   26    1/1/2017   \n",
      "\n",
      "   num_dependents family_status  income  \n",
      "0               3       married  165665  \n",
      "1               0        single   59285  \n",
      "2               2       married   99568  \n",
      "3               0        single   42049  \n",
      "4               1       married   40374  \n"
     ]
    }
   ],
   "source": [
    "# Display the cleaned data\n",
    "print(cust_data.head())"
   ]
  },
  {
   "cell_type": "markdown",
   "id": "a866518e-16e0-440f-877b-3ed5a2221750",
   "metadata": {},
   "source": [
    "##### In this stage of the data wrangling process, there's no immediate need to drop any columns. Each column in the dataset appears to contain relevant information that could be valuable for analysis, depending on the specific goals of the project. Renaming the columns results in a clean and more logically structured dataset."
   ]
  },
  {
   "cell_type": "markdown",
   "id": "653e8314-6c26-4c05-9eb3-b737b9149789",
   "metadata": {},
   "source": [
    "### Q5"
   ]
  },
  {
   "cell_type": "markdown",
   "id": "546c4b30-d470-42ac-be26-97eaa5f665ff",
   "metadata": {},
   "source": [
    "#### Complete the fundamental data quality and consistency checks you’ve learned throughout this Achievement; for example, check for and address missing values and duplicates, and convert any mixed-type data."
   ]
  },
  {
   "cell_type": "code",
   "execution_count": 59,
   "id": "2b3f9ca0-83d6-4990-8494-2ed5f2c91ec9",
   "metadata": {},
   "outputs": [],
   "source": [
    "# Check for duplicates\n",
    "df_dups = cust_data[cust_data.duplicated()]"
   ]
  },
  {
   "cell_type": "code",
   "execution_count": 61,
   "id": "e68b0a4b-4567-4de9-8da2-3d80b3f5f0e0",
   "metadata": {},
   "outputs": [
    {
     "data": {
      "text/html": [
       "<div>\n",
       "<style scoped>\n",
       "    .dataframe tbody tr th:only-of-type {\n",
       "        vertical-align: middle;\n",
       "    }\n",
       "\n",
       "    .dataframe tbody tr th {\n",
       "        vertical-align: top;\n",
       "    }\n",
       "\n",
       "    .dataframe thead th {\n",
       "        text-align: right;\n",
       "    }\n",
       "</style>\n",
       "<table border=\"1\" class=\"dataframe\">\n",
       "  <thead>\n",
       "    <tr style=\"text-align: right;\">\n",
       "      <th></th>\n",
       "      <th>user_id</th>\n",
       "      <th>first_name</th>\n",
       "      <th>last_name</th>\n",
       "      <th>gender</th>\n",
       "      <th>state</th>\n",
       "      <th>age</th>\n",
       "      <th>date_joined</th>\n",
       "      <th>num_dependents</th>\n",
       "      <th>family_status</th>\n",
       "      <th>income</th>\n",
       "    </tr>\n",
       "  </thead>\n",
       "  <tbody>\n",
       "  </tbody>\n",
       "</table>\n",
       "</div>"
      ],
      "text/plain": [
       "Empty DataFrame\n",
       "Columns: [user_id, first_name, last_name, gender, state, age, date_joined, num_dependents, family_status, income]\n",
       "Index: []"
      ]
     },
     "execution_count": 61,
     "metadata": {},
     "output_type": "execute_result"
    }
   ],
   "source": [
    "df_dups"
   ]
  },
  {
   "cell_type": "markdown",
   "id": "df313d16-0de1-47dc-95ea-2387413a0d0c",
   "metadata": {},
   "source": [
    "##### This nil retrun suggests that there are no duplicates in the dataframe"
   ]
  },
  {
   "cell_type": "code",
   "execution_count": 67,
   "id": "db646390-0e6d-4466-8a29-10ea6bb177a9",
   "metadata": {},
   "outputs": [
    {
     "data": {
      "text/plain": [
       "user_id               0\n",
       "first_name        11259\n",
       "last_name             0\n",
       "gender                0\n",
       "state                 0\n",
       "age                   0\n",
       "date_joined           0\n",
       "num_dependents        0\n",
       "family_status         0\n",
       "income                0\n",
       "dtype: int64"
      ]
     },
     "execution_count": 67,
     "metadata": {},
     "output_type": "execute_result"
    }
   ],
   "source": [
    "# Checking missing values\n",
    "cust_data.isnull().sum()"
   ]
  },
  {
   "cell_type": "markdown",
   "id": "6b77d64a-5357-4c4c-aab3-0deecaf52250",
   "metadata": {},
   "source": [
    "##### The missing first_name values in the cust_data dataframe (11,259 missing entries) indicate that a significant portion of the customers in the dataset do not have a recorded first name. This could be due to various reasons, e.g. Incomplete Data Entry, Privacy Concerns, Irrelevance to Analysis. I would suggest at this stage first names might not be critical to the dataset's purpose, and their absence likely won't hinder most types of data analysis."
   ]
  },
  {
   "cell_type": "code",
   "execution_count": 70,
   "id": "03c691e8-a4d1-4a92-8411-0fa758cf1920",
   "metadata": {},
   "outputs": [
    {
     "data": {
      "text/plain": [
       "user_id            int64\n",
       "first_name        object\n",
       "last_name         object\n",
       "gender            object\n",
       "state             object\n",
       "age                int64\n",
       "date_joined       object\n",
       "num_dependents     int64\n",
       "family_status     object\n",
       "income             int64\n",
       "dtype: object"
      ]
     },
     "execution_count": 70,
     "metadata": {},
     "output_type": "execute_result"
    }
   ],
   "source": [
    "# Check for mixed-type\n",
    "cust_data.dtypes"
   ]
  },
  {
   "cell_type": "markdown",
   "id": "9f175a80-c2aa-4b32-8de2-32a0cb7a8685",
   "metadata": {},
   "source": [
    "##### date_joined (Object type): Although it is stored as an object (text), dates can be better handled as a datetime type for easy analysis. I could convert this if required, but not at this stage."
   ]
  },
  {
   "cell_type": "code",
   "execution_count": 72,
   "id": "9ded54ac-b303-4de6-8448-ae174823f2de",
   "metadata": {},
   "outputs": [
    {
     "name": "stdout",
     "output_type": "stream",
     "text": [
      "first_name\n"
     ]
    }
   ],
   "source": [
    "# check for mixed data types within each column\n",
    "for col in cust_data.columns.tolist():\n",
    "    weird = (cust_data[[col]].map(type) != cust_data[[col]].iloc[0].apply(type)).any(axis=1)\n",
    "    if len(cust_data[weird]) > 0:\n",
    "        print(col)"
   ]
  },
  {
   "cell_type": "markdown",
   "id": "cf7d58c5-b099-4be8-91ae-a89fb1bbaf99",
   "metadata": {},
   "source": [
    "##### This shows that some rows in this column contain values of a different type than others (e.g., strings, integers, floats, or NaN), maybe due to missing values (NaN - they are treated as float type), data entry issues, importing issues."
   ]
  },
  {
   "cell_type": "code",
   "execution_count": 77,
   "id": "6447b70c-d2e1-457b-b848-4a3311c7c0d6",
   "metadata": {},
   "outputs": [
    {
     "name": "stdout",
     "output_type": "stream",
     "text": [
      "first_name\n",
      "<class 'str'>      194950\n",
      "<class 'float'>     11259\n",
      "Name: count, dtype: int64\n"
     ]
    }
   ],
   "source": [
    "# review the data type to first name column\n",
    "print(cust_data['first_name'].apply(type).value_counts())"
   ]
  },
  {
   "cell_type": "code",
   "execution_count": 79,
   "id": "169288cc-46e0-4729-9ee3-ff0f43322632",
   "metadata": {},
   "outputs": [],
   "source": [
    "# 11,259 float values, likely due to missing values represented as NaN, hence placeholder needed\n",
    "cust_data['first_name'] = cust_data['first_name'].fillna('Unknown')"
   ]
  },
  {
   "cell_type": "code",
   "execution_count": 81,
   "id": "05cbed4a-a140-4381-9265-7bae78210e78",
   "metadata": {},
   "outputs": [],
   "source": [
    "# and ensure consistency, I will convert the entire column to string type\n",
    "cust_data['first_name'] = cust_data['first_name'].astype(str)"
   ]
  },
  {
   "cell_type": "code",
   "execution_count": 83,
   "id": "738ecef0-7212-4d6e-9b40-5fec748f6274",
   "metadata": {},
   "outputs": [
    {
     "name": "stdout",
     "output_type": "stream",
     "text": [
      "first_name\n",
      "<class 'str'>    206209\n",
      "Name: count, dtype: int64\n"
     ]
    }
   ],
   "source": [
    "# Check again the data consistancy\n",
    "print(cust_data['first_name'].apply(type).value_counts())"
   ]
  },
  {
   "cell_type": "markdown",
   "id": "3f782cee-5943-426f-bf65-a8ad5aedf966",
   "metadata": {},
   "source": [
    "##### The column now contains consistent data types. Missing values will be handled, either filled with a placeholder or excluded if unnecessary"
   ]
  },
  {
   "cell_type": "code",
   "execution_count": 86,
   "id": "68bc8228-b5b6-4705-936d-d259becf0024",
   "metadata": {},
   "outputs": [],
   "source": [
    "# Double check before continue\n",
    "for col in cust_data.columns.tolist():\n",
    "    weird = (cust_data[[col]].map(type) != cust_data[[col]].iloc[0].apply(type)).any(axis=1)\n",
    "    if len(cust_data[weird]) > 0:\n",
    "        print(col)"
   ]
  },
  {
   "cell_type": "markdown",
   "id": "c181c691-19cf-43fc-874b-4922c50ae88b",
   "metadata": {},
   "source": [
    "##### No listed issues, as listed before"
   ]
  },
  {
   "cell_type": "markdown",
   "id": "b4c5862e-5180-4b5e-b31d-82394c4af0fb",
   "metadata": {},
   "source": [
    "### Q6"
   ]
  },
  {
   "cell_type": "markdown",
   "id": "b237bcde-e001-40c3-b4c2-2a055bf4d596",
   "metadata": {},
   "source": [
    "#### Combine your customer data with the rest of your prepared Instacart data. (Hint: Make sure the key columns are the same data type!)"
   ]
  },
  {
   "cell_type": "code",
   "execution_count": 91,
   "id": "acf49f4b-6b3d-40ad-b8ce-79c9547cd301",
   "metadata": {},
   "outputs": [],
   "source": [
    "# Import orders_products_combined_merged_aggregated data\n",
    "ords_prods_merge_new =pd.read_pickle(os.path.join(path, '02 Data', 'Prepared Data', 'orders_products_combined_merged_aggregated.pkl'))"
   ]
  },
  {
   "cell_type": "code",
   "execution_count": 93,
   "id": "19a7dd60-becd-45c7-8014-9ed84779e8da",
   "metadata": {},
   "outputs": [
    {
     "data": {
      "text/plain": [
       "order_id                    int64\n",
       "user_id                     int64\n",
       "order_number                int64\n",
       "orders_day_of_week          int64\n",
       "order_hour_of_day           int64\n",
       "days_since_last_order     float64\n",
       "product_id                  int64\n",
       "add_to_cart_order           int64\n",
       "reordered                   int64\n",
       "_merge                   category\n",
       "Unnamed: 0                  int64\n",
       "product_name               object\n",
       "aisle_id                    int64\n",
       "department_id               int64\n",
       "prices                    float64\n",
       "Match                    category\n",
       "busiest_day                object\n",
       "busiest_period_of_day      object\n",
       "max_order                   int64\n",
       "loyalty_flag               object\n",
       "average_spend             float64\n",
       "spender_flag               object\n",
       "order_median_gap          float64\n",
       "customer_frequency         object\n",
       "dtype: object"
      ]
     },
     "execution_count": 93,
     "metadata": {},
     "output_type": "execute_result"
    }
   ],
   "source": [
    "# Check the columns data type (Making sure the key columns are the same data type!)\n",
    "ords_prods_merge_new.dtypes"
   ]
  },
  {
   "cell_type": "code",
   "execution_count": 95,
   "id": "bf23a023-44ee-4c96-af8b-2306a19012da",
   "metadata": {},
   "outputs": [
    {
     "name": "stdout",
     "output_type": "stream",
     "text": [
      "int64\n",
      "int64\n"
     ]
    }
   ],
   "source": [
    "# Check the Data Types of the Key Column\n",
    "print(cust_data['user_id'].dtype)  # Data type in cust_data\n",
    "print(ords_prods_merge_new['user_id'].dtype)  # Data type in ords_prods_merge_new"
   ]
  },
  {
   "cell_type": "code",
   "execution_count": 97,
   "id": "2cf53de5-68ff-45a3-ac4b-422cb51a2576",
   "metadata": {},
   "outputs": [],
   "source": [
    "# I no longer need _merge to track the origin of rows, you can drop it\n",
    "ords_prods_merge_new.drop(columns=['_merge'], inplace=True)"
   ]
  },
  {
   "cell_type": "code",
   "execution_count": 99,
   "id": "789c62e2-029f-4e12-a159-33be363198b9",
   "metadata": {},
   "outputs": [],
   "source": [
    "# Merging with cust_data with ords_prods_merge_new\n",
    "comb_ords_prods_cust = ords_prods_merge_new.merge(cust_data, on='user_id', indicator = True)"
   ]
  },
  {
   "cell_type": "code",
   "execution_count": 103,
   "id": "7dcca87d-f73e-4f58-a482-0dfe34028f76",
   "metadata": {},
   "outputs": [
    {
     "name": "stdout",
     "output_type": "stream",
     "text": [
      "_merge\n",
      "both          32404859\n",
      "left_only            0\n",
      "right_only           0\n",
      "Name: count, dtype: int64\n"
     ]
    }
   ],
   "source": [
    "# validate the merge and confirm how rows are distributed across the two datasets.\n",
    "print(comb_ords_prods_cust['_merge'].value_counts())"
   ]
  },
  {
   "cell_type": "markdown",
   "id": "91be7df4-8153-4e3a-9cbc-cf5966f7102f",
   "metadata": {},
   "source": [
    "##### Confirms the 320404859 rows as previous in the data set, suggesting no missing data."
   ]
  },
  {
   "cell_type": "code",
   "execution_count": 106,
   "id": "9b028c67-b7c8-4a19-95a7-6316fabf6a41",
   "metadata": {},
   "outputs": [
    {
     "data": {
      "text/html": [
       "<div>\n",
       "<style scoped>\n",
       "    .dataframe tbody tr th:only-of-type {\n",
       "        vertical-align: middle;\n",
       "    }\n",
       "\n",
       "    .dataframe tbody tr th {\n",
       "        vertical-align: top;\n",
       "    }\n",
       "\n",
       "    .dataframe thead th {\n",
       "        text-align: right;\n",
       "    }\n",
       "</style>\n",
       "<table border=\"1\" class=\"dataframe\">\n",
       "  <thead>\n",
       "    <tr style=\"text-align: right;\">\n",
       "      <th></th>\n",
       "      <th>order_id</th>\n",
       "      <th>user_id</th>\n",
       "      <th>order_number</th>\n",
       "      <th>orders_day_of_week</th>\n",
       "      <th>order_hour_of_day</th>\n",
       "      <th>days_since_last_order</th>\n",
       "      <th>product_id</th>\n",
       "      <th>add_to_cart_order</th>\n",
       "      <th>reordered</th>\n",
       "      <th>Unnamed: 0</th>\n",
       "      <th>...</th>\n",
       "      <th>first_name</th>\n",
       "      <th>last_name</th>\n",
       "      <th>gender</th>\n",
       "      <th>state</th>\n",
       "      <th>age</th>\n",
       "      <th>date_joined</th>\n",
       "      <th>num_dependents</th>\n",
       "      <th>family_status</th>\n",
       "      <th>income</th>\n",
       "      <th>_merge</th>\n",
       "    </tr>\n",
       "  </thead>\n",
       "  <tbody>\n",
       "    <tr>\n",
       "      <th>0</th>\n",
       "      <td>2539329</td>\n",
       "      <td>1</td>\n",
       "      <td>1</td>\n",
       "      <td>2</td>\n",
       "      <td>8</td>\n",
       "      <td>NaN</td>\n",
       "      <td>196</td>\n",
       "      <td>1</td>\n",
       "      <td>0</td>\n",
       "      <td>195</td>\n",
       "      <td>...</td>\n",
       "      <td>Linda</td>\n",
       "      <td>Nguyen</td>\n",
       "      <td>Female</td>\n",
       "      <td>Alabama</td>\n",
       "      <td>31</td>\n",
       "      <td>2/17/2019</td>\n",
       "      <td>3</td>\n",
       "      <td>married</td>\n",
       "      <td>40423</td>\n",
       "      <td>both</td>\n",
       "    </tr>\n",
       "    <tr>\n",
       "      <th>1</th>\n",
       "      <td>2539329</td>\n",
       "      <td>1</td>\n",
       "      <td>1</td>\n",
       "      <td>2</td>\n",
       "      <td>8</td>\n",
       "      <td>NaN</td>\n",
       "      <td>14084</td>\n",
       "      <td>2</td>\n",
       "      <td>0</td>\n",
       "      <td>14084</td>\n",
       "      <td>...</td>\n",
       "      <td>Linda</td>\n",
       "      <td>Nguyen</td>\n",
       "      <td>Female</td>\n",
       "      <td>Alabama</td>\n",
       "      <td>31</td>\n",
       "      <td>2/17/2019</td>\n",
       "      <td>3</td>\n",
       "      <td>married</td>\n",
       "      <td>40423</td>\n",
       "      <td>both</td>\n",
       "    </tr>\n",
       "    <tr>\n",
       "      <th>2</th>\n",
       "      <td>2539329</td>\n",
       "      <td>1</td>\n",
       "      <td>1</td>\n",
       "      <td>2</td>\n",
       "      <td>8</td>\n",
       "      <td>NaN</td>\n",
       "      <td>12427</td>\n",
       "      <td>3</td>\n",
       "      <td>0</td>\n",
       "      <td>12427</td>\n",
       "      <td>...</td>\n",
       "      <td>Linda</td>\n",
       "      <td>Nguyen</td>\n",
       "      <td>Female</td>\n",
       "      <td>Alabama</td>\n",
       "      <td>31</td>\n",
       "      <td>2/17/2019</td>\n",
       "      <td>3</td>\n",
       "      <td>married</td>\n",
       "      <td>40423</td>\n",
       "      <td>both</td>\n",
       "    </tr>\n",
       "    <tr>\n",
       "      <th>3</th>\n",
       "      <td>2539329</td>\n",
       "      <td>1</td>\n",
       "      <td>1</td>\n",
       "      <td>2</td>\n",
       "      <td>8</td>\n",
       "      <td>NaN</td>\n",
       "      <td>26088</td>\n",
       "      <td>4</td>\n",
       "      <td>0</td>\n",
       "      <td>26089</td>\n",
       "      <td>...</td>\n",
       "      <td>Linda</td>\n",
       "      <td>Nguyen</td>\n",
       "      <td>Female</td>\n",
       "      <td>Alabama</td>\n",
       "      <td>31</td>\n",
       "      <td>2/17/2019</td>\n",
       "      <td>3</td>\n",
       "      <td>married</td>\n",
       "      <td>40423</td>\n",
       "      <td>both</td>\n",
       "    </tr>\n",
       "    <tr>\n",
       "      <th>4</th>\n",
       "      <td>2539329</td>\n",
       "      <td>1</td>\n",
       "      <td>1</td>\n",
       "      <td>2</td>\n",
       "      <td>8</td>\n",
       "      <td>NaN</td>\n",
       "      <td>26405</td>\n",
       "      <td>5</td>\n",
       "      <td>0</td>\n",
       "      <td>26406</td>\n",
       "      <td>...</td>\n",
       "      <td>Linda</td>\n",
       "      <td>Nguyen</td>\n",
       "      <td>Female</td>\n",
       "      <td>Alabama</td>\n",
       "      <td>31</td>\n",
       "      <td>2/17/2019</td>\n",
       "      <td>3</td>\n",
       "      <td>married</td>\n",
       "      <td>40423</td>\n",
       "      <td>both</td>\n",
       "    </tr>\n",
       "  </tbody>\n",
       "</table>\n",
       "<p>5 rows × 33 columns</p>\n",
       "</div>"
      ],
      "text/plain": [
       "   order_id  user_id  order_number  orders_day_of_week  order_hour_of_day  \\\n",
       "0   2539329        1             1                   2                  8   \n",
       "1   2539329        1             1                   2                  8   \n",
       "2   2539329        1             1                   2                  8   \n",
       "3   2539329        1             1                   2                  8   \n",
       "4   2539329        1             1                   2                  8   \n",
       "\n",
       "   days_since_last_order  product_id  add_to_cart_order  reordered  \\\n",
       "0                    NaN         196                  1          0   \n",
       "1                    NaN       14084                  2          0   \n",
       "2                    NaN       12427                  3          0   \n",
       "3                    NaN       26088                  4          0   \n",
       "4                    NaN       26405                  5          0   \n",
       "\n",
       "   Unnamed: 0  ... first_name  last_name  gender    state age date_joined  \\\n",
       "0         195  ...      Linda     Nguyen  Female  Alabama  31   2/17/2019   \n",
       "1       14084  ...      Linda     Nguyen  Female  Alabama  31   2/17/2019   \n",
       "2       12427  ...      Linda     Nguyen  Female  Alabama  31   2/17/2019   \n",
       "3       26089  ...      Linda     Nguyen  Female  Alabama  31   2/17/2019   \n",
       "4       26406  ...      Linda     Nguyen  Female  Alabama  31   2/17/2019   \n",
       "\n",
       "  num_dependents  family_status income  _merge  \n",
       "0              3        married  40423    both  \n",
       "1              3        married  40423    both  \n",
       "2              3        married  40423    both  \n",
       "3              3        married  40423    both  \n",
       "4              3        married  40423    both  \n",
       "\n",
       "[5 rows x 33 columns]"
      ]
     },
     "execution_count": 106,
     "metadata": {},
     "output_type": "execute_result"
    }
   ],
   "source": [
    "comb_ords_prods_cust.head()"
   ]
  },
  {
   "cell_type": "code",
   "execution_count": 108,
   "id": "5bf921d5-dac0-4f4d-938a-80bc93c19753",
   "metadata": {},
   "outputs": [
    {
     "name": "stdout",
     "output_type": "stream",
     "text": [
      "   order_id  user_id  order_number  orders_day_of_week  order_hour_of_day  \\\n",
      "0   2539329        1             1                   2                  8   \n",
      "1   2539329        1             1                   2                  8   \n",
      "2   2539329        1             1                   2                  8   \n",
      "3   2539329        1             1                   2                  8   \n",
      "4   2539329        1             1                   2                  8   \n",
      "\n",
      "   days_since_last_order  product_id  add_to_cart_order  reordered  \\\n",
      "0                    NaN         196                  1          0   \n",
      "1                    NaN       14084                  2          0   \n",
      "2                    NaN       12427                  3          0   \n",
      "3                    NaN       26088                  4          0   \n",
      "4                    NaN       26405                  5          0   \n",
      "\n",
      "                              product_name  ...  first_name  last_name  \\\n",
      "0                                     Soda  ...       Linda     Nguyen   \n",
      "1  Organic Unsweetened Vanilla Almond Milk  ...       Linda     Nguyen   \n",
      "2                      Original Beef Jerky  ...       Linda     Nguyen   \n",
      "3               Aged White Cheddar Popcorn  ...       Linda     Nguyen   \n",
      "4         XL Pick-A-Size Paper Towel Rolls  ...       Linda     Nguyen   \n",
      "\n",
      "   gender    state age date_joined  num_dependents family_status  income  \\\n",
      "0  Female  Alabama  31   2/17/2019               3       married   40423   \n",
      "1  Female  Alabama  31   2/17/2019               3       married   40423   \n",
      "2  Female  Alabama  31   2/17/2019               3       married   40423   \n",
      "3  Female  Alabama  31   2/17/2019               3       married   40423   \n",
      "4  Female  Alabama  31   2/17/2019               3       married   40423   \n",
      "\n",
      "  _merge  \n",
      "0   both  \n",
      "1   both  \n",
      "2   both  \n",
      "3   both  \n",
      "4   both  \n",
      "\n",
      "[5 rows x 32 columns]\n"
     ]
    }
   ],
   "source": [
    "# Drop the 'Unnamed: 0' column as no meaning\n",
    "comb_ords_prods_cust.drop(columns=['Unnamed: 0'], inplace=True)\n",
    "\n",
    "# Confirm the column is removed\n",
    "print(comb_ords_prods_cust.head())"
   ]
  },
  {
   "cell_type": "code",
   "execution_count": 110,
   "id": "c1c6616c-edb1-4951-a34c-5acaa8896fc9",
   "metadata": {},
   "outputs": [
    {
     "name": "stdout",
     "output_type": "stream",
     "text": [
      "<class 'pandas.core.frame.DataFrame'>\n",
      "RangeIndex: 32404859 entries, 0 to 32404858\n",
      "Data columns (total 32 columns):\n",
      " #   Column                 Dtype   \n",
      "---  ------                 -----   \n",
      " 0   order_id               int64   \n",
      " 1   user_id                int64   \n",
      " 2   order_number           int64   \n",
      " 3   orders_day_of_week     int64   \n",
      " 4   order_hour_of_day      int64   \n",
      " 5   days_since_last_order  float64 \n",
      " 6   product_id             int64   \n",
      " 7   add_to_cart_order      int64   \n",
      " 8   reordered              int64   \n",
      " 9   product_name           object  \n",
      " 10  aisle_id               int64   \n",
      " 11  department_id          int64   \n",
      " 12  prices                 float64 \n",
      " 13  Match                  category\n",
      " 14  busiest_day            object  \n",
      " 15  busiest_period_of_day  object  \n",
      " 16  max_order              int64   \n",
      " 17  loyalty_flag           object  \n",
      " 18  average_spend          float64 \n",
      " 19  spender_flag           object  \n",
      " 20  order_median_gap       float64 \n",
      " 21  customer_frequency     object  \n",
      " 22  first_name             object  \n",
      " 23  last_name              object  \n",
      " 24  gender                 object  \n",
      " 25  state                  object  \n",
      " 26  age                    int64   \n",
      " 27  date_joined            object  \n",
      " 28  num_dependents         int64   \n",
      " 29  family_status          object  \n",
      " 30  income                 int64   \n",
      " 31  _merge                 category\n",
      "dtypes: category(2), float64(4), int64(14), object(12)\n",
      "memory usage: 7.3+ GB\n",
      "None\n"
     ]
    }
   ],
   "source": [
    "# Verify the resulting dataset:\n",
    "print(comb_ords_prods_cust.info())"
   ]
  },
  {
   "cell_type": "markdown",
   "id": "0bab9524-1468-44b7-a93e-64bcf77bae0f",
   "metadata": {},
   "source": [
    "### Q7"
   ]
  },
  {
   "cell_type": "markdown",
   "id": "69ee94b5-0750-4abd-856c-1c38a88dd4ed",
   "metadata": {},
   "source": [
    "#### Ensure your notebook contains logical titles, section headings, and descriptive code comments."
   ]
  },
  {
   "cell_type": "markdown",
   "id": "88cbd321-3fe2-409d-901f-1fda3f758c03",
   "metadata": {},
   "source": [
    "### Q8"
   ]
  },
  {
   "cell_type": "markdown",
   "id": "da1cfb11-94b5-433a-9fdc-4575ea1e0e73",
   "metadata": {},
   "source": [
    "#### Export this new dataframe as a pickle file so you can continue to use it in the second part of this task."
   ]
  },
  {
   "cell_type": "code",
   "execution_count": 117,
   "id": "dfe141e4-22c6-4d95-a9c6-50b33f39bd72",
   "metadata": {},
   "outputs": [],
   "source": [
    "# Export this new dataframe as a pickle file\n",
    "comb_ords_prods_cust.to_pickle(os.path.join(path, '02 Data','Prepared Data', 'orders_products_customers_agg_merge.pkl'))"
   ]
  },
  {
   "cell_type": "code",
   "execution_count": 119,
   "id": "9645ffea-aada-47be-86cc-293f76130144",
   "metadata": {
    "scrolled": true
   },
   "outputs": [
    {
     "name": "stdout",
     "output_type": "stream",
     "text": [
      "True\n"
     ]
    }
   ],
   "source": [
    "# confirm the file was saved\n",
    "print(os.path.isfile(os.path.join(path, '02 Data', 'Prepared Data', 'orders_products_customers_agg_merge.pkl')))\n"
   ]
  },
  {
   "cell_type": "markdown",
   "id": "c7a8e715-f7ec-4f9b-a10e-4d39d6dd7fae",
   "metadata": {},
   "source": [
    "### Q9"
   ]
  },
  {
   "cell_type": "markdown",
   "id": "836cc0bf-3947-42a6-8242-f7defca4b301",
   "metadata": {},
   "source": [
    "#### Save your notebook as part 1"
   ]
  }
 ],
 "metadata": {
  "kernelspec": {
   "display_name": "Python 3 (ipykernel)",
   "language": "python",
   "name": "python3"
  },
  "language_info": {
   "codemirror_mode": {
    "name": "ipython",
    "version": 3
   },
   "file_extension": ".py",
   "mimetype": "text/x-python",
   "name": "python",
   "nbconvert_exporter": "python",
   "pygments_lexer": "ipython3",
   "version": "3.12.7"
  }
 },
 "nbformat": 4,
 "nbformat_minor": 5
}
