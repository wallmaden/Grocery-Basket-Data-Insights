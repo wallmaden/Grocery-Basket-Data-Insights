{
 "cells": [
  {
   "cell_type": "markdown",
   "id": "8ee01af8-f828-4443-be3d-e3d8e593b731",
   "metadata": {},
   "source": [
    "# 01. Code 3 different ways of reaching a result of 100 by adding or subtracting numeric variables."
   ]
  },
  {
   "cell_type": "markdown",
   "id": "10a81c0b-586c-4be4-86f6-2f026d5f2be2",
   "metadata": {},
   "source": [
    "## Addition Method"
   ]
  },
  {
   "cell_type": "code",
   "execution_count": 2,
   "id": "347fe401-a27e-47bf-9edb-9c79ccba76c2",
   "metadata": {},
   "outputs": [],
   "source": [
    "a = 50"
   ]
  },
  {
   "cell_type": "code",
   "execution_count": 4,
   "id": "5b9841bb-2db2-4bc5-acc9-5aa8ae28290c",
   "metadata": {},
   "outputs": [],
   "source": [
    "b = 50"
   ]
  },
  {
   "cell_type": "code",
   "execution_count": 8,
   "id": "42f83f36-82dc-4663-8603-30753dfa4816",
   "metadata": {},
   "outputs": [],
   "source": [
    "result = a + b"
   ]
  },
  {
   "cell_type": "code",
   "execution_count": 10,
   "id": "b9074b6b-f378-4c50-a54d-ef0f1ab8ae9b",
   "metadata": {},
   "outputs": [
    {
     "name": "stdout",
     "output_type": "stream",
     "text": [
      "100\n"
     ]
    }
   ],
   "source": [
    "print (result)"
   ]
  },
  {
   "cell_type": "markdown",
   "id": "fef6ebc5-c2b3-4421-b7b8-c4d6e1598086",
   "metadata": {},
   "source": [
    "## Addition and Substraction Method"
   ]
  },
  {
   "cell_type": "code",
   "execution_count": 12,
   "id": "a2c17e02-b624-4c3b-9e22-ebfe56c5f8ba",
   "metadata": {},
   "outputs": [],
   "source": [
    "x = 200"
   ]
  },
  {
   "cell_type": "code",
   "execution_count": 14,
   "id": "e08667a7-ccb1-4ce1-a0d4-4d3e9f0e3924",
   "metadata": {},
   "outputs": [],
   "source": [
    "y = 100"
   ]
  },
  {
   "cell_type": "code",
   "execution_count": 16,
   "id": "2b34e038-ba19-41dc-8d68-ac12fe2fe77b",
   "metadata": {},
   "outputs": [],
   "source": [
    "result = x - y"
   ]
  },
  {
   "cell_type": "code",
   "execution_count": 18,
   "id": "9a01a514-aa8f-42fb-a7ba-2ac4ea6b861e",
   "metadata": {},
   "outputs": [
    {
     "name": "stdout",
     "output_type": "stream",
     "text": [
      "100\n"
     ]
    }
   ],
   "source": [
    "print (result)"
   ]
  },
  {
   "cell_type": "markdown",
   "id": "d65807fb-e8cd-46f7-83ee-599cbde826a1",
   "metadata": {},
   "source": [
    "## Combination of Addition and substraction Method"
   ]
  },
  {
   "cell_type": "code",
   "execution_count": 20,
   "id": "c0124d3c-c9b6-45f3-af49-ba74ac7d4995",
   "metadata": {},
   "outputs": [],
   "source": [
    "p = 150"
   ]
  },
  {
   "cell_type": "code",
   "execution_count": 22,
   "id": "08a67a75-98dc-4f70-bef8-a0e327c2996d",
   "metadata": {},
   "outputs": [],
   "source": [
    "q = 75"
   ]
  },
  {
   "cell_type": "code",
   "execution_count": 24,
   "id": "3c66f7fb-a311-4bf1-89a2-efbe34bdc034",
   "metadata": {},
   "outputs": [],
   "source": [
    "r = 125"
   ]
  },
  {
   "cell_type": "code",
   "execution_count": 26,
   "id": "6397f3c6-5e25-48e1-96aa-d45112557d3f",
   "metadata": {},
   "outputs": [],
   "source": [
    "result = p + q - r"
   ]
  },
  {
   "cell_type": "code",
   "execution_count": 28,
   "id": "910578e9-6521-4e0f-abb6-b656154a20b1",
   "metadata": {},
   "outputs": [
    {
     "name": "stdout",
     "output_type": "stream",
     "text": [
      "100\n"
     ]
    }
   ],
   "source": [
    "print (result)"
   ]
  },
  {
   "cell_type": "markdown",
   "id": "a43835b8-aab1-4e17-9ec1-b4858c57083a",
   "metadata": {},
   "source": [
    "# Code 2 floating-point variables and divide them by each other"
   ]
  },
  {
   "cell_type": "code",
   "execution_count": 30,
   "id": "30dcc2d5-3d6d-4c17-83ed-dc279166ffd9",
   "metadata": {},
   "outputs": [],
   "source": [
    "c = 5.689"
   ]
  },
  {
   "cell_type": "code",
   "execution_count": 34,
   "id": "485bfd18-3d28-44a4-9fd4-07bc5635062c",
   "metadata": {},
   "outputs": [],
   "source": [
    "d = 6.978"
   ]
  },
  {
   "cell_type": "code",
   "execution_count": 36,
   "id": "0b6981f7-447e-48d9-bdfd-5fe441368a0c",
   "metadata": {},
   "outputs": [],
   "source": [
    "result = d / c"
   ]
  },
  {
   "cell_type": "code",
   "execution_count": 38,
   "id": "e38d480a-5b12-47bd-bb39-3c532481b542",
   "metadata": {},
   "outputs": [
    {
     "name": "stdout",
     "output_type": "stream",
     "text": [
      "1.2265776059061346\n"
     ]
    }
   ],
   "source": [
    "print (result)"
   ]
  },
  {
   "cell_type": "markdown",
   "id": "b3a652db-d09e-4de7-a7e6-f154976a55b7",
   "metadata": {},
   "source": [
    "# Construct a short word made of separate strings"
   ]
  },
  {
   "cell_type": "code",
   "execution_count": 40,
   "id": "614696ae-5569-450d-94bb-3949c1ad6b21",
   "metadata": {},
   "outputs": [],
   "source": [
    "f = 'Good,'"
   ]
  },
  {
   "cell_type": "code",
   "execution_count": 42,
   "id": "c54fef61-06b1-4d73-bf57-1a3d14148800",
   "metadata": {},
   "outputs": [],
   "source": [
    "g = 'Morning'"
   ]
  },
  {
   "cell_type": "code",
   "execution_count": 44,
   "id": "76a74e4a-bfce-4172-8062-7022ab1b4910",
   "metadata": {},
   "outputs": [
    {
     "data": {
      "text/plain": [
       "'Good,Morning'"
      ]
     },
     "execution_count": 44,
     "metadata": {},
     "output_type": "execute_result"
    }
   ],
   "source": [
    "f + g"
   ]
  },
  {
   "cell_type": "markdown",
   "id": "66f46e45-1acb-4bc4-bf06-f579e50083ff",
   "metadata": {},
   "source": [
    "# Construct 2 short sentences made of separate strings."
   ]
  },
  {
   "cell_type": "markdown",
   "id": "f46d68ce-13d7-4c35-94ad-e0b2b9c5566c",
   "metadata": {},
   "source": [
    "## First sentence"
   ]
  },
  {
   "cell_type": "code",
   "execution_count": 56,
   "id": "4989602f-3314-4cb1-a19a-6f5ba7ce51ec",
   "metadata": {},
   "outputs": [],
   "source": [
    "part1 = \"Data\""
   ]
  },
  {
   "cell_type": "code",
   "execution_count": 58,
   "id": "00a66a6d-d451-4623-89de-36f293daa141",
   "metadata": {},
   "outputs": [],
   "source": [
    "part2 = \"is\""
   ]
  },
  {
   "cell_type": "code",
   "execution_count": 60,
   "id": "9a0abddb-dc14-4048-8cd7-bd38c7a5ccc3",
   "metadata": {},
   "outputs": [],
   "source": [
    "part3 = \"great!\""
   ]
  },
  {
   "cell_type": "code",
   "execution_count": 62,
   "id": "73212f1c-d90c-4cb6-8b5c-089d23f398a5",
   "metadata": {},
   "outputs": [],
   "source": [
    "sentence1 = part1 + part2 + part3"
   ]
  },
  {
   "cell_type": "code",
   "execution_count": 64,
   "id": "a2e16f1d-96e6-47bc-978c-99ec4a4511ef",
   "metadata": {},
   "outputs": [
    {
     "name": "stdout",
     "output_type": "stream",
     "text": [
      "Dataisgreat!\n"
     ]
    }
   ],
   "source": [
    "print (sentence1)"
   ]
  },
  {
   "cell_type": "markdown",
   "id": "dd2824ca-8d4c-4287-8824-823c8205b0f3",
   "metadata": {},
   "source": [
    "## with spaces"
   ]
  },
  {
   "cell_type": "code",
   "execution_count": 66,
   "id": "2aed82c8-bdfb-429a-800f-3cdfa449d4e8",
   "metadata": {},
   "outputs": [],
   "source": [
    "result_with_spaces = part1 + \" \" + part2 + \" \" + part3"
   ]
  },
  {
   "cell_type": "code",
   "execution_count": 68,
   "id": "cba341d9-e1e6-456b-9833-3c1eb9e9df4a",
   "metadata": {},
   "outputs": [
    {
     "name": "stdout",
     "output_type": "stream",
     "text": [
      "Data is great!\n"
     ]
    }
   ],
   "source": [
    "print (result_with_spaces)"
   ]
  },
  {
   "cell_type": "markdown",
   "id": "9ae4ecf4-f413-49e8-8d69-92c0e8adaf1c",
   "metadata": {},
   "source": [
    "## Second sentence"
   ]
  },
  {
   "cell_type": "code",
   "execution_count": 70,
   "id": "fd34bf0a-a3b8-4440-bccb-58976db8fc65",
   "metadata": {},
   "outputs": [],
   "source": [
    "word1 = \"CareerFoundry\""
   ]
  },
  {
   "cell_type": "code",
   "execution_count": 72,
   "id": "db5c1075-a3ad-4110-b9be-eda314e8d056",
   "metadata": {},
   "outputs": [],
   "source": [
    "word2 = \"helps me\""
   ]
  },
  {
   "cell_type": "code",
   "execution_count": 74,
   "id": "96a03c18-1a49-4dc8-be44-29f23f48c15c",
   "metadata": {},
   "outputs": [],
   "source": [
    "word3 = \"to code\""
   ]
  },
  {
   "cell_type": "code",
   "execution_count": 76,
   "id": "f564b9a3-2d9b-410e-91e6-3f83c71fabe7",
   "metadata": {},
   "outputs": [],
   "source": [
    "sentence2 = word1 + \" \" + word2 + \" \" + word3 "
   ]
  },
  {
   "cell_type": "code",
   "execution_count": 78,
   "id": "215e004c-85e2-4d67-a54c-8ce7582bef49",
   "metadata": {},
   "outputs": [
    {
     "name": "stdout",
     "output_type": "stream",
     "text": [
      "CareerFoundry helps me to code\n"
     ]
    }
   ],
   "source": [
    "print (sentence2)"
   ]
  }
 ],
 "metadata": {
  "kernelspec": {
   "display_name": "Python 3 (ipykernel)",
   "language": "python",
   "name": "python3"
  },
  "language_info": {
   "codemirror_mode": {
    "name": "ipython",
    "version": 3
   },
   "file_extension": ".py",
   "mimetype": "text/x-python",
   "name": "python",
   "nbconvert_exporter": "python",
   "pygments_lexer": "ipython3",
   "version": "3.12.7"
  }
 },
 "nbformat": 4,
 "nbformat_minor": 5
}
